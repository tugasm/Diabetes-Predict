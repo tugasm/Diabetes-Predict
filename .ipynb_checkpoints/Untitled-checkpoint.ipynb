{
 "cells": [
  {
   "cell_type": "code",
   "execution_count": 1,
   "metadata": {},
   "outputs": [],
   "source": [
    "import pandas as pd\n",
    "import numpy as np\n",
    "import seaborn as sns\n",
    "import matplotlib.pyplot as plt\n",
    "from sklearn.ensemble import GradientBoostingClassifier\n",
    "from sklearn.model_selection import train_test_split, cross_val_score\n",
    "from sklearn.model_selection import GridSearchCV\n",
    "from sklearn.metrics import accuracy_score, roc_auc_score, roc_curve\n",
    "from sklearn.preprocessing import binarize\n",
    "from sklearn.feature_selection import SelectKBest\n",
    "from sklearn.feature_selection import chi2\n",
    "import joblib\n",
    "import pickle"
   ]
  },
  {
   "cell_type": "code",
   "execution_count": 4,
   "metadata": {},
   "outputs": [
    {
     "data": {
      "text/html": [
       "<div>\n",
       "<style scoped>\n",
       "    .dataframe tbody tr th:only-of-type {\n",
       "        vertical-align: middle;\n",
       "    }\n",
       "\n",
       "    .dataframe tbody tr th {\n",
       "        vertical-align: top;\n",
       "    }\n",
       "\n",
       "    .dataframe thead th {\n",
       "        text-align: right;\n",
       "    }\n",
       "</style>\n",
       "<table border=\"1\" class=\"dataframe\">\n",
       "  <thead>\n",
       "    <tr style=\"text-align: right;\">\n",
       "      <th></th>\n",
       "      <th>Pregnancies</th>\n",
       "      <th>Glucose</th>\n",
       "      <th>BloodPressure</th>\n",
       "      <th>SkinThickness</th>\n",
       "      <th>Insulin</th>\n",
       "      <th>BMI</th>\n",
       "      <th>DiabetesPedigreeFunction</th>\n",
       "      <th>Age</th>\n",
       "      <th>Outcome</th>\n",
       "    </tr>\n",
       "  </thead>\n",
       "  <tbody>\n",
       "    <tr>\n",
       "      <td>0</td>\n",
       "      <td>6</td>\n",
       "      <td>148</td>\n",
       "      <td>72</td>\n",
       "      <td>35</td>\n",
       "      <td>0</td>\n",
       "      <td>33.6</td>\n",
       "      <td>0.627</td>\n",
       "      <td>50</td>\n",
       "      <td>1</td>\n",
       "    </tr>\n",
       "    <tr>\n",
       "      <td>1</td>\n",
       "      <td>1</td>\n",
       "      <td>85</td>\n",
       "      <td>66</td>\n",
       "      <td>29</td>\n",
       "      <td>0</td>\n",
       "      <td>26.6</td>\n",
       "      <td>0.351</td>\n",
       "      <td>31</td>\n",
       "      <td>0</td>\n",
       "    </tr>\n",
       "    <tr>\n",
       "      <td>2</td>\n",
       "      <td>8</td>\n",
       "      <td>183</td>\n",
       "      <td>64</td>\n",
       "      <td>0</td>\n",
       "      <td>0</td>\n",
       "      <td>23.3</td>\n",
       "      <td>0.672</td>\n",
       "      <td>32</td>\n",
       "      <td>1</td>\n",
       "    </tr>\n",
       "    <tr>\n",
       "      <td>3</td>\n",
       "      <td>1</td>\n",
       "      <td>89</td>\n",
       "      <td>66</td>\n",
       "      <td>23</td>\n",
       "      <td>94</td>\n",
       "      <td>28.1</td>\n",
       "      <td>0.167</td>\n",
       "      <td>21</td>\n",
       "      <td>0</td>\n",
       "    </tr>\n",
       "    <tr>\n",
       "      <td>4</td>\n",
       "      <td>0</td>\n",
       "      <td>137</td>\n",
       "      <td>40</td>\n",
       "      <td>35</td>\n",
       "      <td>168</td>\n",
       "      <td>43.1</td>\n",
       "      <td>2.288</td>\n",
       "      <td>33</td>\n",
       "      <td>1</td>\n",
       "    </tr>\n",
       "  </tbody>\n",
       "</table>\n",
       "</div>"
      ],
      "text/plain": [
       "   Pregnancies  Glucose  BloodPressure  SkinThickness  Insulin   BMI  \\\n",
       "0            6      148             72             35        0  33.6   \n",
       "1            1       85             66             29        0  26.6   \n",
       "2            8      183             64              0        0  23.3   \n",
       "3            1       89             66             23       94  28.1   \n",
       "4            0      137             40             35      168  43.1   \n",
       "\n",
       "   DiabetesPedigreeFunction  Age  Outcome  \n",
       "0                     0.627   50        1  \n",
       "1                     0.351   31        0  \n",
       "2                     0.672   32        1  \n",
       "3                     0.167   21        0  \n",
       "4                     2.288   33        1  "
      ]
     },
     "execution_count": 4,
     "metadata": {},
     "output_type": "execute_result"
    }
   ],
   "source": [
    "dfdiabetes = pd.read_csv('diabetes2.csv')\n",
    "dfdiabetes.head()"
   ]
  },
  {
   "cell_type": "markdown",
   "metadata": {},
   "source": [
    "## Preparing Dataset"
   ]
  },
  {
   "cell_type": "code",
   "execution_count": 5,
   "metadata": {},
   "outputs": [
    {
     "data": {
      "text/plain": [
       "Pregnancies                 0\n",
       "Glucose                     0\n",
       "BloodPressure               0\n",
       "SkinThickness               0\n",
       "Insulin                     0\n",
       "BMI                         0\n",
       "DiabetesPedigreeFunction    0\n",
       "Age                         0\n",
       "Outcome                     0\n",
       "dtype: int64"
      ]
     },
     "execution_count": 5,
     "metadata": {},
     "output_type": "execute_result"
    }
   ],
   "source": [
    "dfdiabetes.isnull().sum()"
   ]
  },
  {
   "cell_type": "code",
   "execution_count": 6,
   "metadata": {},
   "outputs": [
    {
     "name": "stdout",
     "output_type": "stream",
     "text": [
      "<class 'pandas.core.frame.DataFrame'>\n",
      "RangeIndex: 768 entries, 0 to 767\n",
      "Data columns (total 9 columns):\n",
      "Pregnancies                 768 non-null int64\n",
      "Glucose                     768 non-null int64\n",
      "BloodPressure               768 non-null int64\n",
      "SkinThickness               768 non-null int64\n",
      "Insulin                     768 non-null int64\n",
      "BMI                         768 non-null float64\n",
      "DiabetesPedigreeFunction    768 non-null float64\n",
      "Age                         768 non-null int64\n",
      "Outcome                     768 non-null int64\n",
      "dtypes: float64(2), int64(7)\n",
      "memory usage: 54.1 KB\n"
     ]
    }
   ],
   "source": [
    "dfdiabetes.info()"
   ]
  },
  {
   "cell_type": "code",
   "execution_count": 7,
   "metadata": {},
   "outputs": [
    {
     "data": {
      "text/html": [
       "<div>\n",
       "<style scoped>\n",
       "    .dataframe tbody tr th:only-of-type {\n",
       "        vertical-align: middle;\n",
       "    }\n",
       "\n",
       "    .dataframe tbody tr th {\n",
       "        vertical-align: top;\n",
       "    }\n",
       "\n",
       "    .dataframe thead th {\n",
       "        text-align: right;\n",
       "    }\n",
       "</style>\n",
       "<table border=\"1\" class=\"dataframe\">\n",
       "  <thead>\n",
       "    <tr style=\"text-align: right;\">\n",
       "      <th></th>\n",
       "      <th>Pregnancies</th>\n",
       "      <th>Glucose</th>\n",
       "      <th>BloodPressure</th>\n",
       "      <th>SkinThickness</th>\n",
       "      <th>Insulin</th>\n",
       "      <th>BMI</th>\n",
       "      <th>DiabetesPedigreeFunction</th>\n",
       "      <th>Age</th>\n",
       "      <th>Outcome</th>\n",
       "    </tr>\n",
       "  </thead>\n",
       "  <tbody>\n",
       "    <tr>\n",
       "      <td>count</td>\n",
       "      <td>768.000000</td>\n",
       "      <td>768.000000</td>\n",
       "      <td>768.000000</td>\n",
       "      <td>768.000000</td>\n",
       "      <td>768.000000</td>\n",
       "      <td>768.000000</td>\n",
       "      <td>768.000000</td>\n",
       "      <td>768.000000</td>\n",
       "      <td>768.000000</td>\n",
       "    </tr>\n",
       "    <tr>\n",
       "      <td>mean</td>\n",
       "      <td>3.845052</td>\n",
       "      <td>120.894531</td>\n",
       "      <td>69.105469</td>\n",
       "      <td>20.536458</td>\n",
       "      <td>79.799479</td>\n",
       "      <td>31.992578</td>\n",
       "      <td>0.471876</td>\n",
       "      <td>33.240885</td>\n",
       "      <td>0.348958</td>\n",
       "    </tr>\n",
       "    <tr>\n",
       "      <td>std</td>\n",
       "      <td>3.369578</td>\n",
       "      <td>31.972618</td>\n",
       "      <td>19.355807</td>\n",
       "      <td>15.952218</td>\n",
       "      <td>115.244002</td>\n",
       "      <td>7.884160</td>\n",
       "      <td>0.331329</td>\n",
       "      <td>11.760232</td>\n",
       "      <td>0.476951</td>\n",
       "    </tr>\n",
       "    <tr>\n",
       "      <td>min</td>\n",
       "      <td>0.000000</td>\n",
       "      <td>0.000000</td>\n",
       "      <td>0.000000</td>\n",
       "      <td>0.000000</td>\n",
       "      <td>0.000000</td>\n",
       "      <td>0.000000</td>\n",
       "      <td>0.078000</td>\n",
       "      <td>21.000000</td>\n",
       "      <td>0.000000</td>\n",
       "    </tr>\n",
       "    <tr>\n",
       "      <td>25%</td>\n",
       "      <td>1.000000</td>\n",
       "      <td>99.000000</td>\n",
       "      <td>62.000000</td>\n",
       "      <td>0.000000</td>\n",
       "      <td>0.000000</td>\n",
       "      <td>27.300000</td>\n",
       "      <td>0.243750</td>\n",
       "      <td>24.000000</td>\n",
       "      <td>0.000000</td>\n",
       "    </tr>\n",
       "    <tr>\n",
       "      <td>50%</td>\n",
       "      <td>3.000000</td>\n",
       "      <td>117.000000</td>\n",
       "      <td>72.000000</td>\n",
       "      <td>23.000000</td>\n",
       "      <td>30.500000</td>\n",
       "      <td>32.000000</td>\n",
       "      <td>0.372500</td>\n",
       "      <td>29.000000</td>\n",
       "      <td>0.000000</td>\n",
       "    </tr>\n",
       "    <tr>\n",
       "      <td>75%</td>\n",
       "      <td>6.000000</td>\n",
       "      <td>140.250000</td>\n",
       "      <td>80.000000</td>\n",
       "      <td>32.000000</td>\n",
       "      <td>127.250000</td>\n",
       "      <td>36.600000</td>\n",
       "      <td>0.626250</td>\n",
       "      <td>41.000000</td>\n",
       "      <td>1.000000</td>\n",
       "    </tr>\n",
       "    <tr>\n",
       "      <td>max</td>\n",
       "      <td>17.000000</td>\n",
       "      <td>199.000000</td>\n",
       "      <td>122.000000</td>\n",
       "      <td>99.000000</td>\n",
       "      <td>846.000000</td>\n",
       "      <td>67.100000</td>\n",
       "      <td>2.420000</td>\n",
       "      <td>81.000000</td>\n",
       "      <td>1.000000</td>\n",
       "    </tr>\n",
       "  </tbody>\n",
       "</table>\n",
       "</div>"
      ],
      "text/plain": [
       "       Pregnancies     Glucose  BloodPressure  SkinThickness     Insulin  \\\n",
       "count   768.000000  768.000000     768.000000     768.000000  768.000000   \n",
       "mean      3.845052  120.894531      69.105469      20.536458   79.799479   \n",
       "std       3.369578   31.972618      19.355807      15.952218  115.244002   \n",
       "min       0.000000    0.000000       0.000000       0.000000    0.000000   \n",
       "25%       1.000000   99.000000      62.000000       0.000000    0.000000   \n",
       "50%       3.000000  117.000000      72.000000      23.000000   30.500000   \n",
       "75%       6.000000  140.250000      80.000000      32.000000  127.250000   \n",
       "max      17.000000  199.000000     122.000000      99.000000  846.000000   \n",
       "\n",
       "              BMI  DiabetesPedigreeFunction         Age     Outcome  \n",
       "count  768.000000                768.000000  768.000000  768.000000  \n",
       "mean    31.992578                  0.471876   33.240885    0.348958  \n",
       "std      7.884160                  0.331329   11.760232    0.476951  \n",
       "min      0.000000                  0.078000   21.000000    0.000000  \n",
       "25%     27.300000                  0.243750   24.000000    0.000000  \n",
       "50%     32.000000                  0.372500   29.000000    0.000000  \n",
       "75%     36.600000                  0.626250   41.000000    1.000000  \n",
       "max     67.100000                  2.420000   81.000000    1.000000  "
      ]
     },
     "execution_count": 7,
     "metadata": {},
     "output_type": "execute_result"
    }
   ],
   "source": [
    "#DESCRIPTION OF THE DATASET\n",
    "dfdiabetes.describe()"
   ]
  },
  {
   "cell_type": "code",
   "execution_count": 8,
   "metadata": {},
   "outputs": [],
   "source": [
    "# Splitting\n",
    "data = dfdiabetes.iloc[:,0:8]\n",
    "outcome = dfdiabetes.iloc[:,8]\n",
    "x,y = data,outcome"
   ]
  },
  {
   "cell_type": "code",
   "execution_count": 9,
   "metadata": {},
   "outputs": [],
   "source": [
    "#DISTRIBUTION OF DATASET INTO TRAINING AND TESTING SETS\n",
    "x_train,x_test,y_train,y_test = train_test_split(x,y,random_state=0)"
   ]
  },
  {
   "cell_type": "code",
   "execution_count": 10,
   "metadata": {},
   "outputs": [
    {
     "name": "stdout",
     "output_type": "stream",
     "text": [
      "{'learning_rate': 0.1, 'max_depth': 3, 'max_features': 0.5}\n",
      "0.8378472222222223\n"
     ]
    },
    {
     "name": "stderr",
     "output_type": "stream",
     "text": [
      "/Users/meilyanto/opt/anaconda3/lib/python3.7/site-packages/sklearn/model_selection/_search.py:814: DeprecationWarning: The default of the `iid` parameter will change from True to False in version 0.22 and will be removed in 0.24. This will change numeric results when test-set sizes are unequal.\n",
      "  DeprecationWarning)\n"
     ]
    }
   ],
   "source": [
    "# GRID SEARCH CROSS VALIDATION for evaluating the best parameters\n",
    "gbe = GradientBoostingClassifier(random_state=0)\n",
    "parameters={\n",
    "    'learning_rate': [0.05, 0.1, 0.5],\n",
    "    'max_features': [0.5, 1],\n",
    "    'max_depth': [3, 4, 5]\n",
    "}\n",
    "gridsearch=GridSearchCV(gbe,parameters,cv=100,scoring='roc_auc')\n",
    "gridsearch.fit(x,y)\n",
    "print(gridsearch.best_params_)\n",
    "print(gridsearch.best_score_)"
   ]
  },
  {
   "cell_type": "markdown",
   "metadata": {},
   "source": [
    "## Model : GradientBoostingClassifier"
   ]
  },
  {
   "cell_type": "code",
   "execution_count": 33,
   "metadata": {},
   "outputs": [
    {
     "data": {
      "text/plain": [
       "GradientBoostingClassifier(criterion='friedman_mse', init=None,\n",
       "                           learning_rate=0.01, loss='deviance', max_depth=3,\n",
       "                           max_features=0.5, max_leaf_nodes=None,\n",
       "                           min_impurity_decrease=0.0, min_impurity_split=None,\n",
       "                           min_samples_leaf=1, min_samples_split=2,\n",
       "                           min_weight_fraction_leaf=0.0, n_estimators=100,\n",
       "                           n_iter_no_change=None, presort='auto',\n",
       "                           random_state=0, subsample=1.0, tol=0.0001,\n",
       "                           validation_fraction=0.1, verbose=0,\n",
       "                           warm_start=False)"
      ]
     },
     "execution_count": 33,
     "metadata": {},
     "output_type": "execute_result"
    }
   ],
   "source": [
    "#ADJUSTING DEVELOPMENT THRESHOLD\n",
    "gbi = GradientBoostingClassifier(learning_rate=0.01,max_depth=3,max_features=0.5,random_state=0)\n",
    "x_train,x_test,y_train,y_test = train_test_split(x,y,random_state=0)\n",
    "gbi.fit(x_train,y_train)"
   ]
  },
  {
   "cell_type": "code",
   "execution_count": 34,
   "metadata": {},
   "outputs": [
    {
     "data": {
      "text/plain": [
       "array([0.65503142, 0.24053863, 0.22752717, 0.47921618, 0.20428863,\n",
       "       0.19902119, 0.59849065, 0.67575744, 0.28785885, 0.37848675,\n",
       "       0.55255621, 0.67575744, 0.21321895, 0.24212245, 0.37261635,\n",
       "       0.37735955, 0.68565881, 0.16200208, 0.41053244, 0.32512608,\n",
       "       0.52371956, 0.25167809, 0.21870704, 0.32015324, 0.16714845,\n",
       "       0.32679243, 0.1659357 , 0.59852901, 0.16657728, 0.1991328 ,\n",
       "       0.26600674, 0.2382391 , 0.21543691, 0.29122635, 0.16739135,\n",
       "       0.63468358, 0.41669579, 0.16740361, 0.27579915, 0.62689844,\n",
       "       0.24906177, 0.22688185, 0.31916193, 0.61050427, 0.57756209,\n",
       "       0.16310723, 0.17078099, 0.19977151, 0.26403125, 0.32933853,\n",
       "       0.4041874 , 0.25947492, 0.60257456, 0.5157988 , 0.24413888,\n",
       "       0.16002749, 0.31037436, 0.35503423, 0.25045786, 0.2016137 ,\n",
       "       0.6230922 , 0.55969423, 0.18206098, 0.40801636, 0.66244979,\n",
       "       0.47986192, 0.59096401, 0.20104462, 0.3701375 , 0.34643449,\n",
       "       0.21355219, 0.19922564, 0.23484123, 0.64727783, 0.64328142,\n",
       "       0.49058939, 0.34525449, 0.47019728, 0.3215001 , 0.31769117,\n",
       "       0.33625796, 0.38068696, 0.25714575, 0.16109907, 0.23484123,\n",
       "       0.28269907, 0.18442226, 0.30732024, 0.68987272, 0.22498996,\n",
       "       0.39463187, 0.26782619, 0.21366006, 0.16238689, 0.64333385,\n",
       "       0.21513636, 0.39248893, 0.40902478, 0.43108887, 0.35655293,\n",
       "       0.24581432, 0.16291135, 0.34031565, 0.16117757, 0.39157844,\n",
       "       0.43966026, 0.23507217, 0.36034526, 0.18486015, 0.49624412,\n",
       "       0.21090013, 0.43527028, 0.48810831, 0.53676877, 0.60881594,\n",
       "       0.57376127, 0.17823262, 0.51589024, 0.20939945, 0.50436736,\n",
       "       0.35536023, 0.32015324, 0.25050662, 0.36200627, 0.18244836,\n",
       "       0.16044915, 0.32473644, 0.37712404, 0.40251033, 0.47186317,\n",
       "       0.28336325, 0.16781929, 0.20134163, 0.56851505, 0.39468542,\n",
       "       0.4047877 , 0.28994716, 0.35200519, 0.31215559, 0.21423959,\n",
       "       0.22395671, 0.55041808, 0.16161723, 0.35007298, 0.38090355,\n",
       "       0.16195652, 0.18502249, 0.18439987, 0.21178323, 0.35375699,\n",
       "       0.20111921, 0.36194748, 0.16386423, 0.22852521, 0.57761817,\n",
       "       0.20026314, 0.5337963 , 0.17772188, 0.37030696, 0.54188134,\n",
       "       0.40813991, 0.43232287, 0.16144492, 0.2239614 , 0.63866684,\n",
       "       0.25743052, 0.33343627, 0.16593189, 0.30172427, 0.32438838,\n",
       "       0.20032498, 0.39302707, 0.36650021, 0.320744  , 0.48380405,\n",
       "       0.2327032 , 0.37144461, 0.30567752, 0.21070922, 0.19783784,\n",
       "       0.30367684, 0.58175751, 0.22596827, 0.67144624, 0.36179574,\n",
       "       0.18520003, 0.38187986, 0.38541362, 0.38613859, 0.18033507,\n",
       "       0.27467971, 0.31805777])"
      ]
     },
     "execution_count": 34,
     "metadata": {},
     "output_type": "execute_result"
    }
   ],
   "source": [
    "#STORING THE PREDICTION\n",
    "yprediction = gbi.predict_proba(x_test)[:,1]\n",
    "yprediction"
   ]
  },
  {
   "cell_type": "code",
   "execution_count": 35,
   "metadata": {},
   "outputs": [
    {
     "data": {
      "text/plain": [
       "Text(0, 0.5, 'Frequency')"
      ]
     },
     "execution_count": 35,
     "metadata": {},
     "output_type": "execute_result"
    },
    {
     "data": {
      "image/png": "[encoded data removed]",
      "text/plain": [
       "<Figure size 432x288 with 1 Axes>"
      ]
     },
     "metadata": {
      "needs_background": "light"
     },
     "output_type": "display_data"
    }
   ],
   "source": [
    "## PLOTTING THE PREDICTIONS\n",
    "plt.hist(yprediction,bins=10)\n",
    "plt.xlim(0,1)\n",
    "plt.xlabel(\"Predicted Proababilities\")\n",
    "plt.ylabel(\"Frequency\")"
   ]
  },
  {
   "cell_type": "code",
   "execution_count": 36,
   "metadata": {},
   "outputs": [
    {
     "data": {
      "text/html": [
       "<div>\n",
       "<style scoped>\n",
       "    .dataframe tbody tr th:only-of-type {\n",
       "        vertical-align: middle;\n",
       "    }\n",
       "\n",
       "    .dataframe tbody tr th {\n",
       "        vertical-align: top;\n",
       "    }\n",
       "\n",
       "    .dataframe thead th {\n",
       "        text-align: right;\n",
       "    }\n",
       "</style>\n",
       "<table border=\"1\" class=\"dataframe\">\n",
       "  <thead>\n",
       "    <tr style=\"text-align: right;\">\n",
       "      <th></th>\n",
       "      <th>Pregnancies</th>\n",
       "      <th>Glucose</th>\n",
       "      <th>BloodPressure</th>\n",
       "      <th>SkinThickness</th>\n",
       "      <th>Insulin</th>\n",
       "      <th>BMI</th>\n",
       "      <th>DiabetesPedigreeFunction</th>\n",
       "      <th>Age</th>\n",
       "      <th>Outcome</th>\n",
       "    </tr>\n",
       "  </thead>\n",
       "  <tbody>\n",
       "    <tr>\n",
       "      <td>0</td>\n",
       "      <td>6</td>\n",
       "      <td>148</td>\n",
       "      <td>72</td>\n",
       "      <td>35</td>\n",
       "      <td>0</td>\n",
       "      <td>33.6</td>\n",
       "      <td>0.627</td>\n",
       "      <td>50</td>\n",
       "      <td>1</td>\n",
       "    </tr>\n",
       "    <tr>\n",
       "      <td>1</td>\n",
       "      <td>1</td>\n",
       "      <td>85</td>\n",
       "      <td>66</td>\n",
       "      <td>29</td>\n",
       "      <td>0</td>\n",
       "      <td>26.6</td>\n",
       "      <td>0.351</td>\n",
       "      <td>31</td>\n",
       "      <td>0</td>\n",
       "    </tr>\n",
       "    <tr>\n",
       "      <td>2</td>\n",
       "      <td>8</td>\n",
       "      <td>183</td>\n",
       "      <td>64</td>\n",
       "      <td>0</td>\n",
       "      <td>0</td>\n",
       "      <td>23.3</td>\n",
       "      <td>0.672</td>\n",
       "      <td>32</td>\n",
       "      <td>1</td>\n",
       "    </tr>\n",
       "    <tr>\n",
       "      <td>3</td>\n",
       "      <td>1</td>\n",
       "      <td>89</td>\n",
       "      <td>66</td>\n",
       "      <td>23</td>\n",
       "      <td>94</td>\n",
       "      <td>28.1</td>\n",
       "      <td>0.167</td>\n",
       "      <td>21</td>\n",
       "      <td>0</td>\n",
       "    </tr>\n",
       "    <tr>\n",
       "      <td>4</td>\n",
       "      <td>0</td>\n",
       "      <td>137</td>\n",
       "      <td>40</td>\n",
       "      <td>35</td>\n",
       "      <td>168</td>\n",
       "      <td>43.1</td>\n",
       "      <td>2.288</td>\n",
       "      <td>33</td>\n",
       "      <td>1</td>\n",
       "    </tr>\n",
       "    <tr>\n",
       "      <td>5</td>\n",
       "      <td>5</td>\n",
       "      <td>116</td>\n",
       "      <td>74</td>\n",
       "      <td>0</td>\n",
       "      <td>0</td>\n",
       "      <td>25.6</td>\n",
       "      <td>0.201</td>\n",
       "      <td>30</td>\n",
       "      <td>0</td>\n",
       "    </tr>\n",
       "    <tr>\n",
       "      <td>6</td>\n",
       "      <td>3</td>\n",
       "      <td>78</td>\n",
       "      <td>50</td>\n",
       "      <td>32</td>\n",
       "      <td>88</td>\n",
       "      <td>31.0</td>\n",
       "      <td>0.248</td>\n",
       "      <td>26</td>\n",
       "      <td>1</td>\n",
       "    </tr>\n",
       "    <tr>\n",
       "      <td>7</td>\n",
       "      <td>10</td>\n",
       "      <td>115</td>\n",
       "      <td>0</td>\n",
       "      <td>0</td>\n",
       "      <td>0</td>\n",
       "      <td>35.3</td>\n",
       "      <td>0.134</td>\n",
       "      <td>29</td>\n",
       "      <td>0</td>\n",
       "    </tr>\n",
       "    <tr>\n",
       "      <td>8</td>\n",
       "      <td>2</td>\n",
       "      <td>197</td>\n",
       "      <td>70</td>\n",
       "      <td>45</td>\n",
       "      <td>543</td>\n",
       "      <td>30.5</td>\n",
       "      <td>0.158</td>\n",
       "      <td>53</td>\n",
       "      <td>1</td>\n",
       "    </tr>\n",
       "    <tr>\n",
       "      <td>9</td>\n",
       "      <td>8</td>\n",
       "      <td>125</td>\n",
       "      <td>96</td>\n",
       "      <td>0</td>\n",
       "      <td>0</td>\n",
       "      <td>0.0</td>\n",
       "      <td>0.232</td>\n",
       "      <td>54</td>\n",
       "      <td>1</td>\n",
       "    </tr>\n",
       "  </tbody>\n",
       "</table>\n",
       "</div>"
      ],
      "text/plain": [
       "   Pregnancies  Glucose  BloodPressure  SkinThickness  Insulin   BMI  \\\n",
       "0            6      148             72             35        0  33.6   \n",
       "1            1       85             66             29        0  26.6   \n",
       "2            8      183             64              0        0  23.3   \n",
       "3            1       89             66             23       94  28.1   \n",
       "4            0      137             40             35      168  43.1   \n",
       "5            5      116             74              0        0  25.6   \n",
       "6            3       78             50             32       88  31.0   \n",
       "7           10      115              0              0        0  35.3   \n",
       "8            2      197             70             45      543  30.5   \n",
       "9            8      125             96              0        0   0.0   \n",
       "\n",
       "   DiabetesPedigreeFunction  Age  Outcome  \n",
       "0                     0.627   50        1  \n",
       "1                     0.351   31        0  \n",
       "2                     0.672   32        1  \n",
       "3                     0.167   21        0  \n",
       "4                     2.288   33        1  \n",
       "5                     0.201   30        0  \n",
       "6                     0.248   26        1  \n",
       "7                     0.134   29        0  \n",
       "8                     0.158   53        1  \n",
       "9                     0.232   54        1  "
      ]
     },
     "execution_count": 36,
     "metadata": {},
     "output_type": "execute_result"
    }
   ],
   "source": [
    "dfdiabetes = pd.read_csv('diabetes2.csv')\n",
    "dfdiabetes.head(10)"
   ]
  },
  {
   "cell_type": "code",
   "execution_count": 51,
   "metadata": {},
   "outputs": [
    {
     "name": "stdout",
     "output_type": "stream",
     "text": [
      "35.0 %\n"
     ]
    }
   ],
   "source": [
    "coba = [['6','148','72','35','0','33.6','0.627','50']]\n",
    "prediksiku = gbi.predict_proba(coba)[:,1]\n",
    "print(round(prediksiku[0]*100),'%')\n",
    "# for i in range(len(coba)):\n",
    "#     print(round(prediksiku[i]*100),' %')"
   ]
  },
  {
   "cell_type": "code",
   "execution_count": 39,
   "metadata": {},
   "outputs": [
    {
     "data": {
      "text/plain": [
       "['model_diabetes']"
      ]
     },
     "execution_count": 39,
     "metadata": {},
     "output_type": "execute_result"
    }
   ],
   "source": [
    "joblib.dump(gbi,'model_diabetes')"
   ]
  },
  {
   "cell_type": "code",
   "execution_count": 40,
   "metadata": {},
   "outputs": [
    {
     "data": {
      "text/plain": [
       "array([0.35025132])"
      ]
     },
     "execution_count": 40,
     "metadata": {},
     "output_type": "execute_result"
    }
   ],
   "source": [
    "modelJoblib = joblib.load('model_diabetes')\n",
    "data = modelJoblib.predict_proba([[1,0,72,35,0,33.6,0.627,50]])[:,1]\n",
    "data"
   ]
  },
  {
   "cell_type": "code",
   "execution_count": 41,
   "metadata": {},
   "outputs": [],
   "source": [
    "with open('modelPickle', 'wb') as myModel:\n",
    "    pickle.dump(gbi, myModel)"
   ]
  },
  {
   "cell_type": "code",
   "execution_count": 42,
   "metadata": {},
   "outputs": [
    {
     "data": {
      "text/plain": [
       "Text(0, 0.5, 'Frequency')"
      ]
     },
     "execution_count": 42,
     "metadata": {},
     "output_type": "execute_result"
    },
    {
     "data": {
      "image/png": "[encoded data removed]",
      "text/plain": [
       "<Figure size 432x288 with 1 Axes>"
      ]
     },
     "metadata": {
      "needs_background": "light"
     },
     "output_type": "display_data"
    }
   ],
   "source": [
    "## PLOTTING THE PREDICTIONS\n",
    "plt.hist(prediksiku,bins=10)\n",
    "plt.xlim(0,1)\n",
    "plt.xlabel(\"Predicted Proababilities\")\n",
    "plt.ylabel(\"Frequency\")"
   ]
  },
  {
   "cell_type": "code",
   "execution_count": 113,
   "metadata": {},
   "outputs": [
    {
     "data": {
      "text/plain": [
       "0.8335"
      ]
     },
     "execution_count": 113,
     "metadata": {},
     "output_type": "execute_result"
    }
   ],
   "source": [
    "#CLASSIFIER SCORE\n",
    "round(roc_auc_score(y_test,yprediction),5)"
   ]
  },
  {
   "cell_type": "code",
   "execution_count": 93,
   "metadata": {},
   "outputs": [
    {
     "name": "stderr",
     "output_type": "stream",
     "text": [
      "/Users/meilyanto/opt/anaconda3/lib/python3.7/site-packages/sklearn/ensemble/forest.py:245: FutureWarning: The default value of n_estimators will change from 10 in version 0.20 to 100 in 0.22.\n",
      "  \"10 in version 0.20 to 100 in 0.22.\", FutureWarning)\n"
     ]
    },
    {
     "data": {
      "text/plain": [
       "0.71354"
      ]
     },
     "execution_count": 93,
     "metadata": {},
     "output_type": "execute_result"
    }
   ],
   "source": [
    "#USING RANDOM FOREST CLASSIFICATION\n",
    "from sklearn.ensemble import RandomForestClassifier\n",
    "rmfr = RandomForestClassifier()\n",
    "rmfr.fit(x_train, y_train)\n",
    "y_pred = rmfr.predict(x_test)\n",
    "accuracyrf = round(accuracy_score(y_pred, y_test), 5)\n",
    "accuracyrf"
   ]
  },
  {
   "cell_type": "code",
   "execution_count": 43,
   "metadata": {},
   "outputs": [
    {
     "name": "stdout",
     "output_type": "stream",
     "text": [
      "Package                            Version  \n",
      "---------------------------------- ---------\n",
      "alabaster                          0.7.12   \n",
      "anaconda-client                    1.7.2    \n",
      "anaconda-navigator                 1.9.7    \n",
      "anaconda-project                   0.8.3    \n",
      "appdirs                            1.4.3    \n",
      "appnope                            0.1.0    \n",
      "appscript                          1.0.1    \n",
      "asn1crypto                         1.0.1    \n",
      "astroid                            2.3.1    \n",
      "astropy                            3.2.2    \n",
      "atomicwrites                       1.3.0    \n",
      "attrs                              19.2.0   \n",
      "autopep8                           1.5      \n",
      "Babel                              2.7.0    \n",
      "backcall                           0.1.0    \n",
      "backports.functools-lru-cache      1.5      \n",
      "backports.os                       0.1.1    \n",
      "backports.shutil-get-terminal-size 1.0.0    \n",
      "backports.tempfile                 1.0      \n",
      "backports.weakref                  1.0.post1\n",
      "beautifulsoup4                     4.8.0    \n",
      "bitarray                           1.0.1    \n",
      "bkcharts                           0.2      \n",
      "black                              19.10b0  \n",
      "bleach                             3.1.0    \n",
      "bokeh                              1.3.4    \n",
      "boto                               2.49.0   \n",
      "Bottleneck                         1.2.1    \n",
      "certifi                            2019.9.11\n",
      "cffi                               1.12.3   \n",
      "chardet                            3.0.4    \n",
      "Click                              7.0      \n",
      "cloudpickle                        1.2.2    \n",
      "clyent                             1.2.2    \n",
      "colorama                           0.4.1    \n",
      "conda                              4.7.12   \n",
      "conda-build                        3.18.9   \n",
      "conda-package-handling             1.6.0    \n",
      "conda-verify                       3.4.2    \n",
      "contextlib2                        0.6.0    \n",
      "cryptography                       2.7      \n",
      "cycler                             0.10.0   \n",
      "Cython                             0.29.13  \n",
      "cytoolz                            0.10.0   \n",
      "dask                               2.5.2    \n",
      "decorator                          4.4.0    \n",
      "defusedxml                         0.6.0    \n",
      "distributed                        2.5.2    \n",
      "docutils                           0.15.2   \n",
      "entrypoints                        0.3      \n",
      "et-xmlfile                         1.0.1    \n",
      "fastcache                          1.1.0    \n",
      "filelock                           3.0.12   \n",
      "Flask                              1.1.1    \n",
      "fsspec                             0.5.2    \n",
      "future                             0.17.1   \n",
      "gevent                             1.4.0    \n",
      "glob2                              0.7      \n",
      "gmpy2                              2.0.8    \n",
      "greenlet                           0.4.15   \n",
      "h5py                               2.9.0    \n",
      "HeapDict                           1.0.1    \n",
      "html5lib                           1.0.1    \n",
      "idna                               2.8      \n",
      "imageio                            2.6.0    \n",
      "imagesize                          1.1.0    \n",
      "importlib-metadata                 0.23     \n",
      "ipykernel                          5.1.2    \n",
      "ipython                            7.8.0    \n",
      "ipython-genutils                   0.2.0    \n",
      "ipywidgets                         7.5.1    \n",
      "isort                              4.3.21   \n",
      "itsdangerous                       1.1.0    \n",
      "jdcal                              1.4.1    \n",
      "jedi                               0.15.1   \n",
      "Jinja2                             2.10.3   \n",
      "joblib                             0.13.2   \n",
      "json5                              0.8.5    \n",
      "jsonschema                         3.0.2    \n",
      "jupyter                            1.0.0    \n",
      "jupyter-client                     5.3.3    \n",
      "jupyter-console                    6.0.0    \n",
      "jupyter-core                       4.5.0    \n",
      "jupyterlab                         1.1.4    \n",
      "jupyterlab-server                  1.0.6    \n",
      "keyring                            18.0.0   \n",
      "kiwisolver                         1.1.0    \n",
      "lazy-object-proxy                  1.4.2    \n",
      "libarchive-c                       2.8      \n",
      "lief                               0.9.0    \n",
      "llvmlite                           0.29.0   \n",
      "locket                             0.2.0    \n",
      "lxml                               4.4.1    \n",
      "MarkupSafe                         1.1.1    \n",
      "matplotlib                         3.1.1    \n",
      "mccabe                             0.6.1    \n",
      "mistune                            0.8.4    \n",
      "mkl-fft                            1.0.14   \n",
      "mkl-random                         1.1.0    \n",
      "mkl-service                        2.3.0    \n",
      "mock                               3.0.5    \n",
      "more-itertools                     7.2.0    \n",
      "mpmath                             1.1.0    \n",
      "msgpack                            0.6.1    \n",
      "multipledispatch                   0.6.0    \n",
      "navigator-updater                  0.2.1    \n",
      "nbconvert                          5.6.0    \n",
      "nbformat                           4.4.0    \n",
      "networkx                           2.3      \n",
      "newsapi-python                     0.2.6    \n",
      "nltk                               3.4.5    \n",
      "nose                               1.3.7    \n",
      "notebook                           6.0.1    \n",
      "numba                              0.45.1   \n",
      "numexpr                            2.7.0    \n",
      "numpy                              1.17.2   \n",
      "numpydoc                           0.9.1    \n",
      "olefile                            0.46     \n",
      "openpyxl                           3.0.0    \n",
      "packaging                          19.2     \n",
      "pandas                             0.25.1   \n",
      "pandocfilters                      1.4.2    \n",
      "parso                              0.5.1    \n",
      "partd                              1.0.0    \n",
      "path.py                            12.0.1   \n",
      "pathlib2                           2.3.5    \n",
      "pathspec                           0.7.0    \n",
      "patsy                              0.5.1    \n",
      "pep8                               1.7.1    \n",
      "pexpect                            4.7.0    \n",
      "pickleshare                        0.7.5    \n",
      "Pillow                             6.2.0    \n",
      "pip                                19.2.3   \n",
      "pkginfo                            1.5.0.1  \n",
      "pluggy                             0.13.0   \n",
      "ply                                3.11     \n",
      "prometheus-client                  0.7.1    \n",
      "prompt-toolkit                     2.0.10   \n",
      "psutil                             5.6.3    \n",
      "ptyprocess                         0.6.0    \n",
      "py                                 1.8.0    \n",
      "pycodestyle                        2.5.0    \n",
      "pycosat                            0.6.3    \n",
      "pycparser                          2.19     \n",
      "pycrypto                           2.6.1    \n",
      "pycurl                             7.43.0.3 \n",
      "pyflakes                           2.1.1    \n",
      "Pygments                           2.4.2    \n",
      "pylint                             2.4.2    \n",
      "pyodbc                             4.0.27   \n",
      "pyOpenSSL                          19.0.0   \n",
      "pyparsing                          2.4.2    \n",
      "pyrsistent                         0.15.4   \n",
      "PySocks                            1.7.1    \n",
      "pytest                             5.2.1    \n",
      "pytest-arraydiff                   0.3      \n",
      "pytest-astropy                     0.5.0    \n",
      "pytest-doctestplus                 0.4.0    \n",
      "pytest-openfiles                   0.4.0    \n",
      "pytest-remotedata                  0.3.2    \n",
      "python-dateutil                    2.8.0    \n",
      "pytz                               2019.3   \n",
      "PyWavelets                         1.0.3    \n",
      "PyYAML                             5.1.2    \n",
      "pyzmq                              18.1.0   \n",
      "QtAwesome                          0.6.0    \n",
      "qtconsole                          4.5.5    \n",
      "QtPy                               1.9.0    \n",
      "regex                              2020.1.8 \n",
      "requests                           2.22.0   \n",
      "rope                               0.14.0   \n",
      "ruamel-yaml                        0.15.46  \n",
      "scikit-image                       0.15.0   \n",
      "scikit-learn                       0.21.3   \n",
      "scipy                              1.3.1    \n",
      "seaborn                            0.9.0    \n",
      "Send2Trash                         1.5.0    \n",
      "setuptools                         41.4.0   \n",
      "simplegeneric                      0.8.1    \n",
      "singledispatch                     3.4.0.3  \n",
      "six                                1.12.0   \n",
      "snowballstemmer                    2.0.0    \n",
      "sortedcollections                  1.1.2    \n",
      "sortedcontainers                   2.1.0    \n",
      "soupsieve                          1.9.3    \n",
      "Sphinx                             2.2.0    \n",
      "sphinxcontrib-applehelp            1.0.1    \n",
      "sphinxcontrib-devhelp              1.0.1    \n",
      "sphinxcontrib-htmlhelp             1.0.2    \n",
      "sphinxcontrib-jsmath               1.0.1    \n",
      "sphinxcontrib-qthelp               1.0.2    \n",
      "sphinxcontrib-serializinghtml      1.1.3    \n",
      "sphinxcontrib-websupport           1.1.2    \n",
      "spyder                             3.3.6    \n",
      "spyder-kernels                     0.5.2    \n",
      "SQLAlchemy                         1.3.9    \n",
      "statsmodels                        0.10.1   \n",
      "sympy                              1.4      \n",
      "tables                             3.5.2    \n",
      "tblib                              1.4.0    \n",
      "terminado                          0.8.2    \n",
      "testpath                           0.4.2    \n",
      "toml                               0.10.0   \n",
      "toolz                              0.10.0   \n",
      "tornado                            6.0.3    \n",
      "tqdm                               4.36.1   \n",
      "traitlets                          4.3.3    \n",
      "typed-ast                          1.4.1    \n",
      "unicodecsv                         0.14.1   \n",
      "urllib3                            1.24.2   \n",
      "wcwidth                            0.1.7    \n",
      "webencodings                       0.5.1    \n",
      "Werkzeug                           0.16.0   \n",
      "wheel                              0.33.6   \n",
      "widgetsnbextension                 3.5.1    \n",
      "wrapt                              1.11.2   \n",
      "wurlitzer                          1.0.3    \n",
      "xlrd                               1.2.0    \n",
      "XlsxWriter                         1.2.1    \n",
      "xlwings                            0.15.10  \n",
      "xlwt                               1.3.0    \n",
      "zict                               1.0.0    \n",
      "zipp                               0.6.0    \n",
      "Note: you may need to restart the kernel to use updated packages.\n"
     ]
    }
   ],
   "source": [
    "pip list"
   ]
  },
  {
   "cell_type": "code",
   "execution_count": 160,
   "metadata": {},
   "outputs": [
    {
     "data": {
      "text/plain": [
       "['model_joblib']"
      ]
     },
     "execution_count": 160,
     "metadata": {},
     "output_type": "execute_result"
    }
   ],
   "source": []
  },
  {
   "cell_type": "code",
   "execution_count": null,
   "metadata": {},
   "outputs": [],
   "source": []
  }
 ],
 "metadata": {
  "kernelspec": {
   "display_name": "Python 3",
   "language": "python",
   "name": "python3"
  },
  "language_info": {
   "codemirror_mode": {
    "name": "ipython",
    "version": 3
   },
   "file_extension": ".py",
   "mimetype": "text/x-python",
   "name": "python",
   "nbconvert_exporter": "python",
   "pygments_lexer": "ipython3",
   "version": "3.7.4"
  }
 },
 "nbformat": 4,
 "nbformat_minor": 4
}
